{
 "cells": [
  {
   "cell_type": "markdown",
   "metadata": {
    "ExecuteTime": {
     "end_time": "2021-11-01T17:11:01.482618Z",
     "start_time": "2021-11-01T17:11:01.480643Z"
    },
    "id": "BjQDAL6Q_8c-"
   },
   "source": [
    "# Мультикласова класифікація"
   ]
  },
  {
   "cell_type": "markdown",
   "metadata": {
    "ExecuteTime": {
     "end_time": "2021-11-01T16:54:15.788550Z",
     "start_time": "2021-11-01T16:54:15.785275Z"
    },
    "id": "4vjnqj1E_8dC"
   },
   "source": [
    "У цьому домашньому завданні ми будемо працювати з наступним набором даних:\n",
    "https://archive.ics.uci.edu/ml/datasets/car+evaluation\n",
    "\n",
    "Ми передбачимо клас автомобілів відповідно до його характеристик. Клас може бути unacceptable, acceptable, good, very good.\n",
    "\n",
    "Ми завантажуємо набір даних з hw_5_data.csv, наданого вам для виконання домашнього завдання."
   ]
  },
  {
   "cell_type": "markdown",
   "metadata": {
    "id": "8-8rWHVO_8dC"
   },
   "source": [
    "0. Розташуйте всі імпорти під цією секцією."
   ]
  },
  {
   "cell_type": "code",
   "execution_count": 1,
   "metadata": {
    "ExecuteTime": {
     "end_time": "2021-11-01T16:56:47.593987Z",
     "start_time": "2021-11-01T16:56:47.590446Z"
    },
    "id": "-xK7vTsT_8dD"
   },
   "outputs": [],
   "source": [
    "import warnings\n",
    "\n",
    "warnings.filterwarnings('ignore')\n",
    "import numpy as np\n",
    "import pandas as pd\n",
    "from sklearn.metrics import confusion_matrix\n",
    "import seaborn as sns\n",
    "import matplotlib.pyplot as plt\n",
    "from sklearn.model_selection import train_test_split\n",
    "from sklearn.preprocessing import OrdinalEncoder\n",
    "from sklearn.linear_model import LogisticRegression\n",
    "from sklearn.tree import DecisionTreeClassifier\n",
    "from sklearn.metrics import classification_report\n",
    "from sklearn.model_selection import GridSearchCV\n",
    "\n",
    "\n",
    "from sklearn.tree import export_graphviz\n",
    "from six import StringIO\n",
    "from IPython.display import Image\n",
    "import pydotplus"
   ]
  },
  {
   "cell_type": "markdown",
   "metadata": {
    "id": "hXTclf6v_8dE"
   },
   "source": [
    "1.1. Завантажте набір даних у змінну df за допомогою Pandas. Виведіть перші 5 записів та форму набору даних."
   ]
  },
  {
   "cell_type": "code",
   "execution_count": 2,
   "metadata": {
    "code_folding": [],
    "id": "PlKzyg3g_8dE"
   },
   "outputs": [
    {
     "data": {
      "text/html": [
       "<div>\n",
       "<style scoped>\n",
       "    .dataframe tbody tr th:only-of-type {\n",
       "        vertical-align: middle;\n",
       "    }\n",
       "\n",
       "    .dataframe tbody tr th {\n",
       "        vertical-align: top;\n",
       "    }\n",
       "\n",
       "    .dataframe thead th {\n",
       "        text-align: right;\n",
       "    }\n",
       "</style>\n",
       "<table border=\"1\" class=\"dataframe\">\n",
       "  <thead>\n",
       "    <tr style=\"text-align: right;\">\n",
       "      <th></th>\n",
       "      <th>vhigh</th>\n",
       "      <th>vhigh.1</th>\n",
       "      <th>2</th>\n",
       "      <th>2.1</th>\n",
       "      <th>small</th>\n",
       "      <th>low</th>\n",
       "      <th>unacc</th>\n",
       "    </tr>\n",
       "  </thead>\n",
       "  <tbody>\n",
       "    <tr>\n",
       "      <th>0</th>\n",
       "      <td>vhigh</td>\n",
       "      <td>vhigh</td>\n",
       "      <td>2</td>\n",
       "      <td>2</td>\n",
       "      <td>small</td>\n",
       "      <td>med</td>\n",
       "      <td>unacc</td>\n",
       "    </tr>\n",
       "    <tr>\n",
       "      <th>1</th>\n",
       "      <td>vhigh</td>\n",
       "      <td>vhigh</td>\n",
       "      <td>2</td>\n",
       "      <td>2</td>\n",
       "      <td>small</td>\n",
       "      <td>high</td>\n",
       "      <td>unacc</td>\n",
       "    </tr>\n",
       "    <tr>\n",
       "      <th>2</th>\n",
       "      <td>vhigh</td>\n",
       "      <td>vhigh</td>\n",
       "      <td>2</td>\n",
       "      <td>2</td>\n",
       "      <td>med</td>\n",
       "      <td>low</td>\n",
       "      <td>unacc</td>\n",
       "    </tr>\n",
       "    <tr>\n",
       "      <th>3</th>\n",
       "      <td>vhigh</td>\n",
       "      <td>vhigh</td>\n",
       "      <td>2</td>\n",
       "      <td>2</td>\n",
       "      <td>med</td>\n",
       "      <td>med</td>\n",
       "      <td>unacc</td>\n",
       "    </tr>\n",
       "    <tr>\n",
       "      <th>4</th>\n",
       "      <td>vhigh</td>\n",
       "      <td>vhigh</td>\n",
       "      <td>2</td>\n",
       "      <td>2</td>\n",
       "      <td>med</td>\n",
       "      <td>high</td>\n",
       "      <td>unacc</td>\n",
       "    </tr>\n",
       "  </tbody>\n",
       "</table>\n",
       "</div>"
      ],
      "text/plain": [
       "   vhigh vhigh.1  2 2.1  small   low  unacc\n",
       "0  vhigh   vhigh  2   2  small   med  unacc\n",
       "1  vhigh   vhigh  2   2  small  high  unacc\n",
       "2  vhigh   vhigh  2   2    med   low  unacc\n",
       "3  vhigh   vhigh  2   2    med   med  unacc\n",
       "4  vhigh   vhigh  2   2    med  high  unacc"
      ]
     },
     "execution_count": 2,
     "metadata": {},
     "output_type": "execute_result"
    }
   ],
   "source": [
    "df = pd.read_csv('hw_5_data.csv')\n",
    "df.head()"
   ]
  },
  {
   "cell_type": "code",
   "execution_count": 3,
   "metadata": {},
   "outputs": [
    {
     "data": {
      "text/plain": [
       "(1727, 7)"
      ]
     },
     "execution_count": 3,
     "metadata": {},
     "output_type": "execute_result"
    }
   ],
   "source": [
    "df.shape #форма набору даних"
   ]
  },
  {
   "cell_type": "markdown",
   "metadata": {
    "ExecuteTime": {
     "end_time": "2021-11-01T17:00:14.372550Z",
     "start_time": "2021-11-01T17:00:14.369472Z"
    },
    "id": "dOYyCtsO_8dE"
   },
   "source": [
    "1.2. Набір даних не має імен стовпців. Дайте наступні імена стовпцям:\n",
    "`['buying', 'maint', 'doors', 'persons', 'lug_boot', 'safety', 'class']`"
   ]
  },
  {
   "cell_type": "code",
   "execution_count": 4,
   "metadata": {
    "ExecuteTime": {
     "end_time": "2021-11-01T17:00:47.250197Z",
     "start_time": "2021-11-01T17:00:47.247504Z"
    },
    "id": "w1OwW528_8dF"
   },
   "outputs": [
    {
     "name": "stdout",
     "output_type": "stream",
     "text": [
      "  buying  maint doors persons lug_boot safety  class\n",
      "0  vhigh  vhigh     2       2    small    low  unacc\n",
      "1  vhigh  vhigh     2       2    small    med  unacc\n",
      "2  vhigh  vhigh     2       2    small   high  unacc\n",
      "3  vhigh  vhigh     2       2      med    low  unacc\n",
      "4  vhigh  vhigh     2       2      med    med  unacc\n",
      "(1728, 7)\n"
     ]
    }
   ],
   "source": [
    "column_names = ['buying', 'maint', 'doors', 'persons', 'lug_boot', 'safety', 'class']\n",
    "df = pd.read_csv('hw_5_data.csv', names=column_names)\n",
    "print(df.head(5))\n",
    "print(df.shape)"
   ]
  },
  {
   "cell_type": "markdown",
   "metadata": {
    "id": "fC09S27h_8dF"
   },
   "source": [
    "2. Виведіть кількість унікальних значень кожної з незалежних змінних програмно. Формат числовий, а не візуальний. Приклад відповіді для одного стовпця:\n",
    "```\n",
    "med      432\n",
    "high     432\n",
    "vhigh    432\n",
    "low      432\n",
    "Name: buying, dtype: int64\n",
    "```\n",
    "Необхідно, щоб були назви стовпців, назви значень та кількість рядків із цим значенням."
   ]
  },
  {
   "cell_type": "code",
   "execution_count": 5,
   "metadata": {
    "ExecuteTime": {
     "end_time": "2021-11-02T10:41:29.009362Z",
     "start_time": "2021-11-02T10:41:29.007023Z"
    },
    "id": "pB59W_LX_8dG"
   },
   "outputs": [
    {
     "name": "stdout",
     "output_type": "stream",
     "text": [
      "Column: buying\n",
      "vhigh    432\n",
      "high     432\n",
      "med      432\n",
      "low      432\n",
      "Name: buying, dtype: int64\n",
      "-----\n",
      "Column: maint\n",
      "vhigh    432\n",
      "high     432\n",
      "med      432\n",
      "low      432\n",
      "Name: maint, dtype: int64\n",
      "-----\n",
      "Column: doors\n",
      "2        432\n",
      "3        432\n",
      "4        432\n",
      "5more    432\n",
      "Name: doors, dtype: int64\n",
      "-----\n",
      "Column: persons\n",
      "2       576\n",
      "4       576\n",
      "more    576\n",
      "Name: persons, dtype: int64\n",
      "-----\n",
      "Column: lug_boot\n",
      "small    576\n",
      "med      576\n",
      "big      576\n",
      "Name: lug_boot, dtype: int64\n",
      "-----\n",
      "Column: safety\n",
      "low     576\n",
      "med     576\n",
      "high    576\n",
      "Name: safety, dtype: int64\n",
      "-----\n",
      "Column: class\n",
      "unacc    1210\n",
      "acc       384\n",
      "good       69\n",
      "vgood      65\n",
      "Name: class, dtype: int64\n",
      "-----\n"
     ]
    }
   ],
   "source": [
    "for column in column_names:\n",
    "    value_counts = df[column].value_counts()\n",
    "    print(f\"Column: {column}\")\n",
    "    print(value_counts)\n",
    "    print(\"-----\")"
   ]
  },
  {
   "cell_type": "markdown",
   "metadata": {
    "id": "XYGCH60d_8dG"
   },
   "source": [
    "3. Виведіть скільки рядків відповідають кожному із значень цільової змінної. Дайте відповіді на два наступні запитання:   \n",
    "  3.1. Ця змінна ординальна (порядкова) чи номінальна? Чому?\n",
    "  \n",
    "  3.2. Класифікація у цьому випадку буде збалансована чи незбалансована? Чому?"
   ]
  },
  {
   "cell_type": "code",
   "execution_count": 6,
   "metadata": {
    "ExecuteTime": {
     "end_time": "2021-11-02T10:41:34.251989Z",
     "start_time": "2021-11-02T10:41:34.250233Z"
    },
    "id": "qnHYToWT_8dH"
   },
   "outputs": [
    {
     "name": "stdout",
     "output_type": "stream",
     "text": [
      "Column: class\n",
      "unacc    1210\n",
      "acc       384\n",
      "good       69\n",
      "vgood      65\n",
      "Name: class, dtype: int64\n"
     ]
    }
   ],
   "source": [
    "value_counts = df[\"class\"].value_counts()\n",
    "print(f\"Column: {column}\")\n",
    "print(value_counts)"
   ]
  },
  {
   "cell_type": "markdown",
   "metadata": {
    "ExecuteTime": {
     "end_time": "2021-11-04T12:03:08.941741Z",
     "start_time": "2021-11-04T12:03:08.938107Z"
    },
    "id": "c1RpY3bm_8dH"
   },
   "source": [
    "3.1. Змінна є ординальною, так як значення можна впорядкувати між собою (є ієрархія) - неприйнятна, прийнятна, хороша, дуже хороша.\n",
    "3.2. Незбалансована, так як рядків з unacc класом ледь не в 10-20 разів більше ніж прикладів інших змінних. моделі буде важко навчитись розпізнавати інші класи крім неприйнятного. "
   ]
  },
  {
   "cell_type": "markdown",
   "metadata": {
    "id": "1z5WAhmK_8dH"
   },
   "source": [
    "4. Перевірте, чи відсутні значення у всіх змінних завантажених набору даних."
   ]
  },
  {
   "cell_type": "code",
   "execution_count": 7,
   "metadata": {
    "ExecuteTime": {
     "end_time": "2021-11-02T10:41:38.506811Z",
     "start_time": "2021-11-02T10:41:38.504440Z"
    },
    "id": "rl8qaESG_8dH"
   },
   "outputs": [
    {
     "data": {
      "text/plain": [
       "buying      0\n",
       "maint       0\n",
       "doors       0\n",
       "persons     0\n",
       "lug_boot    0\n",
       "safety      0\n",
       "class       0\n",
       "dtype: int64"
      ]
     },
     "execution_count": 7,
     "metadata": {},
     "output_type": "execute_result"
    }
   ],
   "source": [
    "missing_values = df.isnull().any()\n",
    "missing_counts = df.isnull().sum()\n",
    "missing_values\n",
    "missing_counts"
   ]
  },
  {
   "cell_type": "markdown",
   "metadata": {},
   "source": [
    "нема пропущених змінних."
   ]
  },
  {
   "cell_type": "markdown",
   "metadata": {
    "id": "nR5bHVzS_8dI"
   },
   "source": [
    "5.1. Запишіть у змінну `x` всі незалежні змінні, у змінну `y` - цільову.\n"
   ]
  },
  {
   "cell_type": "code",
   "execution_count": 8,
   "metadata": {
    "ExecuteTime": {
     "end_time": "2021-11-02T10:41:40.348802Z",
     "start_time": "2021-11-02T10:41:40.346882Z"
    },
    "id": "RRsdGwLE_8dI"
   },
   "outputs": [],
   "source": [
    "x = df[['buying', 'maint', 'doors', 'persons', 'lug_boot', 'safety']]\n",
    "y = df['class']"
   ]
  },
  {
   "cell_type": "markdown",
   "metadata": {
    "id": "3BcCML7__8dI"
   },
   "source": [
    "5.2. Розбийте дані на тренувальний та тестовий набори (ми знову ігноруємо валідацію для спрощення завдання). Визначте random_state рівним 42 та test_size рівним 0.33."
   ]
  },
  {
   "cell_type": "code",
   "execution_count": 9,
   "metadata": {
    "id": "FOfdCYU2_8dI"
   },
   "outputs": [],
   "source": [
    "x_train_df, x_test_df, y_train, y_test = train_test_split(x, y, test_size=0.33, random_state=42)"
   ]
  },
  {
   "cell_type": "markdown",
   "metadata": {
    "ExecuteTime": {
     "end_time": "2021-11-01T17:19:56.837872Z",
     "start_time": "2021-11-01T17:19:56.834773Z"
    },
    "id": "BIwr6cvW_8dI"
   },
   "source": [
    "5.3. Виведіть форму та перші 5 записів отриманих x_train_df, x_test_df."
   ]
  },
  {
   "cell_type": "code",
   "execution_count": 10,
   "metadata": {
    "ExecuteTime": {
     "end_time": "2021-11-02T10:41:48.181866Z",
     "start_time": "2021-11-02T10:41:48.180036Z"
    },
    "id": "sBi5CNtN_8dJ",
    "scrolled": true
   },
   "outputs": [
    {
     "name": "stdout",
     "output_type": "stream",
     "text": [
      "Форма x_train_df: (1157, 6)\n",
      "Перші 5 записів x_train_df:\n",
      "     buying  maint  doors persons lug_boot safety\n",
      "48    vhigh  vhigh      3    more      med    low\n",
      "468    high  vhigh      3       4    small    low\n",
      "155   vhigh   high      3    more    small   high\n",
      "1721    low    low  5more    more    small   high\n",
      "1208    med    low      2    more    small   high\n",
      "------------------------------------------------\n",
      "Форма x_test_df: (571, 6)\n",
      "Перші 5 записів x_test_df:\n",
      "     buying maint  doors persons lug_boot safety\n",
      "599    high  high      4       2      med   high\n",
      "1201    med   low      2       4      med    med\n",
      "628    high  high  5more       2      big    med\n",
      "1498    low  high  5more       4      med    med\n",
      "1263    med   low      4    more      med    low\n"
     ]
    }
   ],
   "source": [
    "print(\"Форма x_train_df:\", x_train_df.shape)\n",
    "print(\"Перші 5 записів x_train_df:\")\n",
    "print(x_train_df.head())\n",
    "print(\"------------------------------------------------\")\n",
    "print(\"Форма x_test_df:\", x_test_df.shape)\n",
    "print(\"Перші 5 записів x_test_df:\")\n",
    "print(x_test_df.head())"
   ]
  },
  {
   "cell_type": "markdown",
   "metadata": {
    "id": "X_nRBFLX_8dJ"
   },
   "source": [
    "6.1. Виведіть типи даних усіх змінних у x_train."
   ]
  },
  {
   "cell_type": "code",
   "execution_count": 11,
   "metadata": {
    "ExecuteTime": {
     "end_time": "2021-11-02T10:41:54.131896Z",
     "start_time": "2021-11-02T10:41:54.130012Z"
    },
    "id": "J3wA26SC_8dJ"
   },
   "outputs": [
    {
     "data": {
      "text/plain": [
       "buying      object\n",
       "maint       object\n",
       "doors       object\n",
       "persons     object\n",
       "lug_boot    object\n",
       "safety      object\n",
       "dtype: object"
      ]
     },
     "execution_count": 11,
     "metadata": {},
     "output_type": "execute_result"
    }
   ],
   "source": [
    "x_train_df.dtypes"
   ]
  },
  {
   "cell_type": "markdown",
   "metadata": {
    "id": "t0IBq3Lw_8dJ"
   },
   "source": [
    "6.2. Усі незалежні змінні у нас ординальні. Закодуйте всі незалежні змінні за допомогою відповідного методу з sklearn.preprocessing.  \n",
    "Вам необхідно встановити правильний порядок значень для кожної змінної при кодуванні так, щоб значення після кодування були впорядковані в порядку зростання.\n",
    "Кодування значень {'high':1,'low':2,'med':3} буде ввжатись неправильним виконанням завдання.\n",
    "Подумайте, як коректно застосовувати енкодер на трен. та тест. даних.\n",
    "Результат кодування x_train_df та x_test_df запишіть відповідно у x_train, x_test."
   ]
  },
  {
   "cell_type": "code",
   "execution_count": 12,
   "metadata": {
    "ExecuteTime": {
     "end_time": "2021-11-02T10:42:04.208460Z",
     "start_time": "2021-11-02T10:42:04.206067Z"
    },
    "id": "XB8AKT3M_8dJ"
   },
   "outputs": [],
   "source": [
    "# Створення екземпляра OrdinalEncoder та задання порядку категорій\n",
    "encoder = OrdinalEncoder(categories=[\n",
    "    ['low', 'med', 'high', 'vhigh'],\n",
    "    ['low', 'med', 'high', 'vhigh'],\n",
    "    ['2', '3', '4', '5more'],\n",
    "    ['2', '4', 'more'],\n",
    "    ['small', 'med', 'big'],\n",
    "    ['low', 'med', 'high']\n",
    "])\n",
    "\n",
    "# Закодування незалежних змінних у x_train_df\n",
    "x_train_encoded = encoder.fit_transform(x_train_df)\n",
    "\n",
    "# Закодування незалежних змінних у x_test_df\n",
    "x_test_encoded = encoder.transform(x_test_df)\n",
    "\n",
    "# Збереження результатів у x_train та x_test\n",
    "x_train = pd.DataFrame(x_train_encoded, columns=x_train_df.columns)\n",
    "x_test = pd.DataFrame(x_test_encoded, columns=x_test_df.columns)"
   ]
  },
  {
   "cell_type": "markdown",
   "metadata": {
    "id": "yl5tu1xd_8dJ"
   },
   "source": [
    "6.3. Виведіть перші 5 записів x_train, x_test."
   ]
  },
  {
   "cell_type": "code",
   "execution_count": 13,
   "metadata": {
    "ExecuteTime": {
     "end_time": "2021-11-02T10:42:07.742802Z",
     "start_time": "2021-11-02T10:42:07.740645Z"
    },
    "id": "VU4GVsIU_8dJ"
   },
   "outputs": [
    {
     "data": {
      "text/html": [
       "<div>\n",
       "<style scoped>\n",
       "    .dataframe tbody tr th:only-of-type {\n",
       "        vertical-align: middle;\n",
       "    }\n",
       "\n",
       "    .dataframe tbody tr th {\n",
       "        vertical-align: top;\n",
       "    }\n",
       "\n",
       "    .dataframe thead th {\n",
       "        text-align: right;\n",
       "    }\n",
       "</style>\n",
       "<table border=\"1\" class=\"dataframe\">\n",
       "  <thead>\n",
       "    <tr style=\"text-align: right;\">\n",
       "      <th></th>\n",
       "      <th>buying</th>\n",
       "      <th>maint</th>\n",
       "      <th>doors</th>\n",
       "      <th>persons</th>\n",
       "      <th>lug_boot</th>\n",
       "      <th>safety</th>\n",
       "    </tr>\n",
       "  </thead>\n",
       "  <tbody>\n",
       "    <tr>\n",
       "      <th>0</th>\n",
       "      <td>3.0</td>\n",
       "      <td>3.0</td>\n",
       "      <td>1.0</td>\n",
       "      <td>2.0</td>\n",
       "      <td>1.0</td>\n",
       "      <td>0.0</td>\n",
       "    </tr>\n",
       "    <tr>\n",
       "      <th>1</th>\n",
       "      <td>2.0</td>\n",
       "      <td>3.0</td>\n",
       "      <td>1.0</td>\n",
       "      <td>1.0</td>\n",
       "      <td>0.0</td>\n",
       "      <td>0.0</td>\n",
       "    </tr>\n",
       "    <tr>\n",
       "      <th>2</th>\n",
       "      <td>3.0</td>\n",
       "      <td>2.0</td>\n",
       "      <td>1.0</td>\n",
       "      <td>2.0</td>\n",
       "      <td>0.0</td>\n",
       "      <td>2.0</td>\n",
       "    </tr>\n",
       "    <tr>\n",
       "      <th>3</th>\n",
       "      <td>0.0</td>\n",
       "      <td>0.0</td>\n",
       "      <td>3.0</td>\n",
       "      <td>2.0</td>\n",
       "      <td>0.0</td>\n",
       "      <td>2.0</td>\n",
       "    </tr>\n",
       "    <tr>\n",
       "      <th>4</th>\n",
       "      <td>1.0</td>\n",
       "      <td>0.0</td>\n",
       "      <td>0.0</td>\n",
       "      <td>2.0</td>\n",
       "      <td>0.0</td>\n",
       "      <td>2.0</td>\n",
       "    </tr>\n",
       "  </tbody>\n",
       "</table>\n",
       "</div>"
      ],
      "text/plain": [
       "   buying  maint  doors  persons  lug_boot  safety\n",
       "0     3.0    3.0    1.0      2.0       1.0     0.0\n",
       "1     2.0    3.0    1.0      1.0       0.0     0.0\n",
       "2     3.0    2.0    1.0      2.0       0.0     2.0\n",
       "3     0.0    0.0    3.0      2.0       0.0     2.0\n",
       "4     1.0    0.0    0.0      2.0       0.0     2.0"
      ]
     },
     "execution_count": 13,
     "metadata": {},
     "output_type": "execute_result"
    }
   ],
   "source": [
    "x_train.head()"
   ]
  },
  {
   "cell_type": "code",
   "execution_count": 14,
   "metadata": {},
   "outputs": [
    {
     "data": {
      "text/html": [
       "<div>\n",
       "<style scoped>\n",
       "    .dataframe tbody tr th:only-of-type {\n",
       "        vertical-align: middle;\n",
       "    }\n",
       "\n",
       "    .dataframe tbody tr th {\n",
       "        vertical-align: top;\n",
       "    }\n",
       "\n",
       "    .dataframe thead th {\n",
       "        text-align: right;\n",
       "    }\n",
       "</style>\n",
       "<table border=\"1\" class=\"dataframe\">\n",
       "  <thead>\n",
       "    <tr style=\"text-align: right;\">\n",
       "      <th></th>\n",
       "      <th>buying</th>\n",
       "      <th>maint</th>\n",
       "      <th>doors</th>\n",
       "      <th>persons</th>\n",
       "      <th>lug_boot</th>\n",
       "      <th>safety</th>\n",
       "    </tr>\n",
       "  </thead>\n",
       "  <tbody>\n",
       "    <tr>\n",
       "      <th>0</th>\n",
       "      <td>2.0</td>\n",
       "      <td>2.0</td>\n",
       "      <td>2.0</td>\n",
       "      <td>0.0</td>\n",
       "      <td>1.0</td>\n",
       "      <td>2.0</td>\n",
       "    </tr>\n",
       "    <tr>\n",
       "      <th>1</th>\n",
       "      <td>1.0</td>\n",
       "      <td>0.0</td>\n",
       "      <td>0.0</td>\n",
       "      <td>1.0</td>\n",
       "      <td>1.0</td>\n",
       "      <td>1.0</td>\n",
       "    </tr>\n",
       "    <tr>\n",
       "      <th>2</th>\n",
       "      <td>2.0</td>\n",
       "      <td>2.0</td>\n",
       "      <td>3.0</td>\n",
       "      <td>0.0</td>\n",
       "      <td>2.0</td>\n",
       "      <td>1.0</td>\n",
       "    </tr>\n",
       "    <tr>\n",
       "      <th>3</th>\n",
       "      <td>0.0</td>\n",
       "      <td>2.0</td>\n",
       "      <td>3.0</td>\n",
       "      <td>1.0</td>\n",
       "      <td>1.0</td>\n",
       "      <td>1.0</td>\n",
       "    </tr>\n",
       "    <tr>\n",
       "      <th>4</th>\n",
       "      <td>1.0</td>\n",
       "      <td>0.0</td>\n",
       "      <td>2.0</td>\n",
       "      <td>2.0</td>\n",
       "      <td>1.0</td>\n",
       "      <td>0.0</td>\n",
       "    </tr>\n",
       "  </tbody>\n",
       "</table>\n",
       "</div>"
      ],
      "text/plain": [
       "   buying  maint  doors  persons  lug_boot  safety\n",
       "0     2.0    2.0    2.0      0.0       1.0     2.0\n",
       "1     1.0    0.0    0.0      1.0       1.0     1.0\n",
       "2     2.0    2.0    3.0      0.0       2.0     1.0\n",
       "3     0.0    2.0    3.0      1.0       1.0     1.0\n",
       "4     1.0    0.0    2.0      2.0       1.0     0.0"
      ]
     },
     "execution_count": 14,
     "metadata": {},
     "output_type": "execute_result"
    }
   ],
   "source": [
    "x_test.head()"
   ]
  },
  {
   "cell_type": "markdown",
   "metadata": {
    "id": "o4WHM6TU_8dJ"
   },
   "source": [
    "6.4. Виведіть отримані категорії енкодера."
   ]
  },
  {
   "cell_type": "code",
   "execution_count": 15,
   "metadata": {
    "ExecuteTime": {
     "end_time": "2021-11-02T10:42:10.104216Z",
     "start_time": "2021-11-02T10:42:10.102336Z"
    },
    "id": "bW4tzGHg_8dK"
   },
   "outputs": [
    {
     "name": "stdout",
     "output_type": "stream",
     "text": [
      "Категорії для змінної buying\n",
      "{'low': 1, 'med': 2, 'high': 3, 'vhigh': 4}\n",
      "\n",
      "Категорії для змінної maint\n",
      "{'low': 1, 'med': 2, 'high': 3, 'vhigh': 4}\n",
      "\n",
      "Категорії для змінної doors\n",
      "{'2': 1, '3': 2, '4': 3, '5more': 4}\n",
      "\n",
      "Категорії для змінної persons\n",
      "{'2': 1, '4': 2, 'more': 3}\n",
      "\n",
      "Категорії для змінної lug_boot\n",
      "{'small': 1, 'med': 2, 'big': 3}\n",
      "\n",
      "Категорії для змінної safety\n",
      "{'low': 1, 'med': 2, 'high': 3}\n",
      "\n"
     ]
    }
   ],
   "source": [
    "# Виведення категорій\n",
    "for i, column in enumerate(x_train_df.columns):\n",
    "    print(\"Категорії для змінної\", column)\n",
    "    category_dict = {value: index + 1 for index, value in enumerate(encoder.categories_[i])}\n",
    "    print(category_dict)\n",
    "    print()"
   ]
  },
  {
   "cell_type": "markdown",
   "metadata": {
    "id": "c76B_glz_8dK"
   },
   "source": [
    "7.1. Навчіть на отриманих даних логістичну регресію c random_state=42 та іншими параметрами по замовчуванню."
   ]
  },
  {
   "cell_type": "code",
   "execution_count": 16,
   "metadata": {
    "ExecuteTime": {
     "end_time": "2021-11-02T10:42:12.074365Z",
     "start_time": "2021-11-02T10:42:12.072038Z"
    },
    "id": "ouP81741_8dK"
   },
   "outputs": [
    {
     "data": {
      "text/html": [
       "<style>#sk-container-id-1 {color: black;background-color: white;}#sk-container-id-1 pre{padding: 0;}#sk-container-id-1 div.sk-toggleable {background-color: white;}#sk-container-id-1 label.sk-toggleable__label {cursor: pointer;display: block;width: 100%;margin-bottom: 0;padding: 0.3em;box-sizing: border-box;text-align: center;}#sk-container-id-1 label.sk-toggleable__label-arrow:before {content: \"▸\";float: left;margin-right: 0.25em;color: #696969;}#sk-container-id-1 label.sk-toggleable__label-arrow:hover:before {color: black;}#sk-container-id-1 div.sk-estimator:hover label.sk-toggleable__label-arrow:before {color: black;}#sk-container-id-1 div.sk-toggleable__content {max-height: 0;max-width: 0;overflow: hidden;text-align: left;background-color: #f0f8ff;}#sk-container-id-1 div.sk-toggleable__content pre {margin: 0.2em;color: black;border-radius: 0.25em;background-color: #f0f8ff;}#sk-container-id-1 input.sk-toggleable__control:checked~div.sk-toggleable__content {max-height: 200px;max-width: 100%;overflow: auto;}#sk-container-id-1 input.sk-toggleable__control:checked~label.sk-toggleable__label-arrow:before {content: \"▾\";}#sk-container-id-1 div.sk-estimator input.sk-toggleable__control:checked~label.sk-toggleable__label {background-color: #d4ebff;}#sk-container-id-1 div.sk-label input.sk-toggleable__control:checked~label.sk-toggleable__label {background-color: #d4ebff;}#sk-container-id-1 input.sk-hidden--visually {border: 0;clip: rect(1px 1px 1px 1px);clip: rect(1px, 1px, 1px, 1px);height: 1px;margin: -1px;overflow: hidden;padding: 0;position: absolute;width: 1px;}#sk-container-id-1 div.sk-estimator {font-family: monospace;background-color: #f0f8ff;border: 1px dotted black;border-radius: 0.25em;box-sizing: border-box;margin-bottom: 0.5em;}#sk-container-id-1 div.sk-estimator:hover {background-color: #d4ebff;}#sk-container-id-1 div.sk-parallel-item::after {content: \"\";width: 100%;border-bottom: 1px solid gray;flex-grow: 1;}#sk-container-id-1 div.sk-label:hover label.sk-toggleable__label {background-color: #d4ebff;}#sk-container-id-1 div.sk-serial::before {content: \"\";position: absolute;border-left: 1px solid gray;box-sizing: border-box;top: 0;bottom: 0;left: 50%;z-index: 0;}#sk-container-id-1 div.sk-serial {display: flex;flex-direction: column;align-items: center;background-color: white;padding-right: 0.2em;padding-left: 0.2em;position: relative;}#sk-container-id-1 div.sk-item {position: relative;z-index: 1;}#sk-container-id-1 div.sk-parallel {display: flex;align-items: stretch;justify-content: center;background-color: white;position: relative;}#sk-container-id-1 div.sk-item::before, #sk-container-id-1 div.sk-parallel-item::before {content: \"\";position: absolute;border-left: 1px solid gray;box-sizing: border-box;top: 0;bottom: 0;left: 50%;z-index: -1;}#sk-container-id-1 div.sk-parallel-item {display: flex;flex-direction: column;z-index: 1;position: relative;background-color: white;}#sk-container-id-1 div.sk-parallel-item:first-child::after {align-self: flex-end;width: 50%;}#sk-container-id-1 div.sk-parallel-item:last-child::after {align-self: flex-start;width: 50%;}#sk-container-id-1 div.sk-parallel-item:only-child::after {width: 0;}#sk-container-id-1 div.sk-dashed-wrapped {border: 1px dashed gray;margin: 0 0.4em 0.5em 0.4em;box-sizing: border-box;padding-bottom: 0.4em;background-color: white;}#sk-container-id-1 div.sk-label label {font-family: monospace;font-weight: bold;display: inline-block;line-height: 1.2em;}#sk-container-id-1 div.sk-label-container {text-align: center;}#sk-container-id-1 div.sk-container {/* jupyter's `normalize.less` sets `[hidden] { display: none; }` but bootstrap.min.css set `[hidden] { display: none !important; }` so we also need the `!important` here to be able to override the default hidden behavior on the sphinx rendered scikit-learn.org. See: https://github.com/scikit-learn/scikit-learn/issues/21755 */display: inline-block !important;position: relative;}#sk-container-id-1 div.sk-text-repr-fallback {display: none;}</style><div id=\"sk-container-id-1\" class=\"sk-top-container\"><div class=\"sk-text-repr-fallback\"><pre>LogisticRegression(random_state=42)</pre><b>In a Jupyter environment, please rerun this cell to show the HTML representation or trust the notebook. <br />On GitHub, the HTML representation is unable to render, please try loading this page with nbviewer.org.</b></div><div class=\"sk-container\" hidden><div class=\"sk-item\"><div class=\"sk-estimator sk-toggleable\"><input class=\"sk-toggleable__control sk-hidden--visually\" id=\"sk-estimator-id-1\" type=\"checkbox\" checked><label for=\"sk-estimator-id-1\" class=\"sk-toggleable__label sk-toggleable__label-arrow\">LogisticRegression</label><div class=\"sk-toggleable__content\"><pre>LogisticRegression(random_state=42)</pre></div></div></div></div></div>"
      ],
      "text/plain": [
       "LogisticRegression(random_state=42)"
      ]
     },
     "execution_count": 16,
     "metadata": {},
     "output_type": "execute_result"
    }
   ],
   "source": [
    "logreg = LogisticRegression(random_state=42)\n",
    "logreg.fit(x_train, y_train)"
   ]
  },
  {
   "cell_type": "markdown",
   "metadata": {
    "id": "OM7uglow_8dK"
   },
   "source": [
    "7.2. Зробіть прогнози за допомогою отриманої моделі за допомогою методу predict. "
   ]
  },
  {
   "cell_type": "code",
   "execution_count": 17,
   "metadata": {
    "ExecuteTime": {
     "end_time": "2021-11-02T10:42:13.814321Z",
     "start_time": "2021-11-02T10:42:13.812352Z"
    },
    "id": "XjGKlSUm_8dK"
   },
   "outputs": [],
   "source": [
    "y_pred = logreg.predict(x_test)"
   ]
  },
  {
   "cell_type": "markdown",
   "metadata": {
    "id": "2LU_2E4N_8dK"
   },
   "source": [
    "7.3. Виведіть метрики якості за допомогою classification_report."
   ]
  },
  {
   "cell_type": "code",
   "execution_count": 18,
   "metadata": {
    "ExecuteTime": {
     "end_time": "2021-11-02T10:42:16.537869Z",
     "start_time": "2021-11-02T10:42:16.536060Z"
    },
    "id": "sPIN3yz5_8dK",
    "scrolled": true
   },
   "outputs": [
    {
     "name": "stdout",
     "output_type": "stream",
     "text": [
      "              precision    recall  f1-score   support\n",
      "\n",
      "         acc       0.65      0.58      0.61       129\n",
      "        good       0.55      0.30      0.39        20\n",
      "       unacc       0.88      0.93      0.90       397\n",
      "       vgood       0.78      0.72      0.75        25\n",
      "\n",
      "    accuracy                           0.82       571\n",
      "   macro avg       0.71      0.63      0.66       571\n",
      "weighted avg       0.81      0.82      0.81       571\n",
      "\n"
     ]
    }
   ],
   "source": [
    "report = classification_report(y_test, y_pred)\n",
    "print(report)"
   ]
  },
  {
   "cell_type": "markdown",
   "metadata": {
    "ExecuteTime": {
     "end_time": "2021-11-08T07:33:57.395310Z",
     "start_time": "2021-11-08T07:33:57.310878Z"
    },
    "id": "PGoYOTe5_8dK"
   },
   "source": [
    "Accuracy у цьому пункті має бути близько 0.82. "
   ]
  },
  {
   "cell_type": "markdown",
   "metadata": {
    "id": "f_6VjoNl_8dK"
   },
   "source": [
    "7.4. Яку метрику якості ви рекомендуєте використовувати для порівняння різних моделей та вибору найкращої? Чому? Метрика - це одне число, що характеризує якість передбачень моделі."
   ]
  },
  {
   "cell_type": "markdown",
   "metadata": {
    "ExecuteTime": {
     "end_time": "2021-11-02T10:19:26.083395Z",
     "start_time": "2021-11-02T10:19:25.977243Z"
    },
    "id": "7uE4hylM_8dK"
   },
   "source": [
    "так як класи незбалансовані, то краще звернути увагу на  precision або   recall або f1-score. я оберу f1-score, так як він враховує як точність, так і повноту моделі і є добрим показником збалансованості між цими двома метриками. F1-score особливо корисний, коли маємо справу з незбалансованими класами."
   ]
  },
  {
   "cell_type": "markdown",
   "metadata": {
    "id": "6emnYpCo_8dK"
   },
   "source": [
    "8.1. Навчіть Decision Tree з sklearn з глибиною 4 за тими ж даними. Обчисліть прогнози, знайдіть метрику якості на test даних. Порівняйте з регресією логістики. Яка модель краща?"
   ]
  },
  {
   "cell_type": "code",
   "execution_count": 19,
   "metadata": {
    "ExecuteTime": {
     "end_time": "2021-11-02T10:42:18.685868Z",
     "start_time": "2021-11-02T10:42:18.684017Z"
    },
    "id": "3xVV9p_3_8dK"
   },
   "outputs": [
    {
     "name": "stdout",
     "output_type": "stream",
     "text": [
      "              precision    recall  f1-score   support\n",
      "\n",
      "         acc       0.68      0.79      0.73       129\n",
      "        good       0.38      0.60      0.46        20\n",
      "       unacc       0.96      0.94      0.95       397\n",
      "       vgood       0.00      0.00      0.00        25\n",
      "\n",
      "    accuracy                           0.85       571\n",
      "   macro avg       0.50      0.58      0.54       571\n",
      "weighted avg       0.83      0.85      0.84       571\n",
      "\n"
     ]
    }
   ],
   "source": [
    "tree_model = DecisionTreeClassifier(max_depth=4, random_state=42)\n",
    "\n",
    "# Навчання моделі на навчальних даних\n",
    "tree_model.fit(x_train, y_train)\n",
    "\n",
    "# Прогнозування на тестових даних\n",
    "y_pred = tree_model.predict(x_test)\n",
    "\n",
    "# Обчислення метрик якості\n",
    "report = classification_report(y_test, y_pred)\n",
    "print(report)"
   ]
  },
  {
   "cell_type": "markdown",
   "metadata": {},
   "source": [
    "у модеді tree_model трошки вища accuracy ніж у логістичної регресії, проте для незбалансованих класів краще звернутись на іншу метрику - f1-score)\n",
    "\n",
    "tree_model має кращі показники для всіх класів  f1-score ніж логістична регресія, окрім vgood - цей клас чомусь взагалі не може визначити модель......"
   ]
  },
  {
   "cell_type": "markdown",
   "metadata": {
    "ExecuteTime": {
     "end_time": "2021-11-02T10:23:07.523939Z",
     "start_time": "2021-11-02T10:23:07.499537Z"
    },
    "id": "yVzm_wFk_8dK"
   },
   "source": [
    "8.2. Виведіть параметри моделі Decision Tree."
   ]
  },
  {
   "cell_type": "code",
   "execution_count": 20,
   "metadata": {
    "ExecuteTime": {
     "end_time": "2021-11-02T10:43:00.942076Z",
     "start_time": "2021-11-02T10:43:00.939966Z"
    },
    "id": "ertJP0is_8dL"
   },
   "outputs": [
    {
     "data": {
      "text/plain": [
       "{'ccp_alpha': 0.0,\n",
       " 'class_weight': None,\n",
       " 'criterion': 'gini',\n",
       " 'max_depth': 4,\n",
       " 'max_features': None,\n",
       " 'max_leaf_nodes': None,\n",
       " 'min_impurity_decrease': 0.0,\n",
       " 'min_samples_leaf': 1,\n",
       " 'min_samples_split': 2,\n",
       " 'min_weight_fraction_leaf': 0.0,\n",
       " 'random_state': 42,\n",
       " 'splitter': 'best'}"
      ]
     },
     "execution_count": 20,
     "metadata": {},
     "output_type": "execute_result"
    }
   ],
   "source": [
    "tree_model.get_params()"
   ]
  },
  {
   "cell_type": "markdown",
   "metadata": {
    "id": "Kdsxbnu__8dL"
   },
   "source": [
    "<font color='blue'>**[Optional]**</font> 8.3. Візуалізуйте отримане дерево в будь-якому з існуючих методів. Зображення повинно мати графік з критеріями у вузлах, класах та кількості елементів у кожному аркуші."
   ]
  },
  {
   "cell_type": "code",
   "execution_count": 21,
   "metadata": {
    "ExecuteTime": {
     "end_time": "2021-11-02T10:43:03.265981Z",
     "start_time": "2021-11-02T10:43:03.264154Z"
    },
    "id": "l4semDU8_8dL"
   },
   "outputs": [],
   "source": [
    "# # Експортуємо дерево рішень в DOT-формат\n",
    "# dot_data = export_graphviz(tree_model, out_file=None, filled=True, rounded=True, special_characters=True)\n",
    "\n",
    "# # Створюємо графік з DOT-коду\n",
    "# graph = pydotplus.graph_from_dot_data(dot_data)\n",
    "\n",
    "# # Візуалізуємо графік\n",
    "# Image(graph.create_png())"
   ]
  },
  {
   "cell_type": "markdown",
   "metadata": {
    "ExecuteTime": {
     "end_time": "2021-11-02T10:24:32.205815Z",
     "start_time": "2021-11-02T10:24:32.200091Z"
    },
    "id": "fB5pHcx9_8dL"
   },
   "source": [
    "9.1. Виконайте пошук гіперпараметрів для DecisionTree за сіткою за допомогою sklearn. Встановіть сітку з параметрів самостійно на основі припущень, що може покращити роботу дерева.\n",
    "Вам вдалося знайти модель, яка працює краще, ніж побудована у пункті 8.1?"
   ]
  },
  {
   "cell_type": "code",
   "execution_count": 22,
   "metadata": {
    "ExecuteTime": {
     "end_time": "2021-11-02T10:43:03.265981Z",
     "start_time": "2021-11-02T10:43:03.264154Z"
    },
    "id": "i8ybBX2E_8dL"
   },
   "outputs": [
    {
     "name": "stdout",
     "output_type": "stream",
     "text": [
      "Найкращі параметри: {'criterion': 'entropy', 'max_depth': 6, 'min_samples_split': 2}\n",
      "              precision    recall  f1-score   support\n",
      "\n",
      "         acc       0.85      0.78      0.81       129\n",
      "        good       0.55      0.85      0.67        20\n",
      "       unacc       0.97      0.96      0.97       397\n",
      "       vgood       0.79      0.88      0.83        25\n",
      "\n",
      "    accuracy                           0.91       571\n",
      "   macro avg       0.79      0.87      0.82       571\n",
      "weighted avg       0.92      0.91      0.92       571\n",
      "\n"
     ]
    }
   ],
   "source": [
    "# Створення екземпляра моделі Decision Tree\n",
    "tree_model = DecisionTreeClassifier(random_state=42)\n",
    "\n",
    "# Визначення сітки параметрів\n",
    "param_grid = {\n",
    "    'max_depth': [3, 4, 5, 6, 7],\n",
    "    'criterion': ['gini', 'entropy'],\n",
    "    'min_samples_split': [2, 5, 10]\n",
    "}\n",
    "\n",
    "# Пошук гіперпараметрів за допомогою сітки\n",
    "grid_search = GridSearchCV(tree_model, param_grid, scoring='f1_macro', cv=5)\n",
    "grid_search.fit(x_train, y_train)\n",
    "\n",
    "# Виведення найкращих параметрів\n",
    "print(\"Найкращі параметри:\", grid_search.best_params_)\n",
    "\n",
    "# Прогнозування на тестових даних з найкращими параметрами\n",
    "y_pred = grid_search.predict(x_test)\n",
    "\n",
    "# Обчислення метрик якості\n",
    "report = classification_report(y_test, y_pred)\n",
    "print(report)"
   ]
  },
  {
   "cell_type": "markdown",
   "metadata": {},
   "source": [
    "здається, модель стала кращою, оскільки клас vgood принаймні почала передбачати, і показники f1-score  для всіх класів покращились)"
   ]
  },
  {
   "cell_type": "markdown",
   "metadata": {
    "ExecuteTime": {
     "end_time": "2021-11-02T10:31:41.716381Z",
     "start_time": "2021-11-02T10:31:41.713212Z"
    },
    "id": "Liu7FuBk_8dL"
   },
   "source": [
    "9.2. Виведіть claasification report фінальної моделі пошуку гіперпараметрів."
   ]
  },
  {
   "cell_type": "code",
   "execution_count": 23,
   "metadata": {
    "ExecuteTime": {
     "end_time": "2021-11-02T10:43:03.265981Z",
     "start_time": "2021-11-02T10:43:03.264154Z"
    },
    "id": "xeXPKMlj_8dL"
   },
   "outputs": [
    {
     "name": "stdout",
     "output_type": "stream",
     "text": [
      "              precision    recall  f1-score   support\n",
      "\n",
      "         acc       0.85      0.78      0.81       129\n",
      "        good       0.55      0.85      0.67        20\n",
      "       unacc       0.97      0.96      0.97       397\n",
      "       vgood       0.79      0.88      0.83        25\n",
      "\n",
      "    accuracy                           0.91       571\n",
      "   macro avg       0.79      0.87      0.82       571\n",
      "weighted avg       0.92      0.91      0.92       571\n",
      "\n"
     ]
    }
   ],
   "source": [
    "# Обчислення метрик якості\n",
    "report = classification_report(y_test, y_pred)\n",
    "print(report)"
   ]
  },
  {
   "cell_type": "markdown",
   "metadata": {
    "ExecuteTime": {
     "end_time": "2021-11-02T10:31:54.320583Z",
     "start_time": "2021-11-02T10:31:54.316901Z"
    },
    "id": "61HuBtlS_8dL"
   },
   "source": [
    "9.3. Виведіть матрицю помилок для кращої моделі у пошуку гіперпараметрів. Відобразіть матрицю візуально (у вигляді графіка із зафарбованими за значеннями клітинами або у вигляді таблиці із зафарбовуванням фону)."
   ]
  },
  {
   "cell_type": "code",
   "execution_count": 24,
   "metadata": {
    "ExecuteTime": {
     "end_time": "2021-11-02T10:43:23.892947Z",
     "start_time": "2021-11-02T10:43:23.886585Z"
    },
    "id": "3qn63PsF_8dL"
   },
   "outputs": [
    {
     "data": {
      "image/png": "[encoded data removed]",
      "text/plain": [
       "<Figure size 800x600 with 2 Axes>"
      ]
     },
     "metadata": {},
     "output_type": "display_data"
    }
   ],
   "source": [
    "# Список назв класів\n",
    "class_names = ['acc', 'good', 'unacc', 'vgood']\n",
    "\n",
    "# Прогнози на тестових даних з найкращими параметрами\n",
    "y_pred = grid_search.predict(x_test)\n",
    "\n",
    "# Обчислення матриці помилок\n",
    "cm = confusion_matrix(y_test, y_pred)\n",
    "\n",
    "# Візуалізація матриці помилок у вигляді таблиці з зафарбовуванням фону\n",
    "plt.figure(figsize=(8, 6))\n",
    "sns.heatmap(cm, annot=True, fmt='d', cmap='Blues', cbar=True,\n",
    "            xticklabels=class_names, yticklabels=class_names)\n",
    "plt.xlabel('Predicted')\n",
    "plt.ylabel('True')\n",
    "plt.show()"
   ]
  },
  {
   "cell_type": "markdown",
   "metadata": {
    "ExecuteTime": {
     "end_time": "2021-11-02T10:35:47.933163Z",
     "start_time": "2021-11-02T10:35:47.929762Z"
    },
    "id": "sXcdFnK3_8dL"
   },
   "source": [
    "9.4. Зробіть висновок, які класи, з якими моделями найбільше плутаються?"
   ]
  },
  {
   "cell_type": "markdown",
   "metadata": {
    "ExecuteTime": {
     "end_time": "2021-11-02T10:43:23.892947Z",
     "start_time": "2021-11-02T10:43:23.886585Z"
    },
    "id": "kxK6x2rt_8dL"
   },
   "source": [
    "    найбільше плутаються unacceptable з acceptable і навпаки, acceptable з  good - тобто найбільше плутаються сусідні класи"
   ]
  }
 ],
 "metadata": {
  "colab": {
   "provenance": []
  },
  "kernelspec": {
   "display_name": "Python 3 (ipykernel)",
   "language": "python",
   "name": "python3"
  },
  "language_info": {
   "codemirror_mode": {
    "name": "ipython",
    "version": 3
   },
   "file_extension": ".py",
   "mimetype": "text/x-python",
   "name": "python",
   "nbconvert_exporter": "python",
   "pygments_lexer": "ipython3",
   "version": "3.10.10"
  },
  "toc": {
   "base_numbering": 1,
   "nav_menu": {},
   "number_sections": true,
   "sideBar": true,
   "skip_h1_title": false,
   "title_cell": "Table of Contents",
   "title_sidebar": "Contents",
   "toc_cell": false,
   "toc_position": {},
   "toc_section_display": true,
   "toc_window_display": false
  }
 },
 "nbformat": 4,
 "nbformat_minor": 1
}
